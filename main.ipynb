{
 "cells": [
  {
   "cell_type": "code",
   "execution_count": 1,
   "metadata": {},
   "outputs": [
    {
     "name": "stdout",
     "output_type": "stream",
     "text": [
      "Requirement already satisfied: cython in /home/gabriel/anaconda3/lib/python3.7/site-packages (0.29.15)\n",
      "Note: you may need to restart the kernel to use updated packages.\n",
      "Requirement already satisfied: opencv-python in /home/gabriel/anaconda3/lib/python3.7/site-packages (4.5.5.64)\n",
      "Requirement already satisfied: pillow in /home/gabriel/anaconda3/lib/python3.7/site-packages (7.0.0)\n",
      "Collecting pycocotools\n",
      "  Using cached pycocotools-2.0.4.tar.gz (106 kB)\n",
      "  Installing build dependencies ... \u001b[?25ldone\n",
      "\u001b[?25h  Getting requirements to build wheel ... \u001b[?25ldone\n",
      "\u001b[?25h    Preparing wheel metadata ... \u001b[?25ldone\n",
      "\u001b[?25hRequirement already satisfied: matplotlib in /home/gabriel/anaconda3/lib/python3.7/site-packages (3.5.1)\n",
      "Requirement already satisfied: numpy>=1.14.5; python_version >= \"3.7\" in /home/gabriel/anaconda3/lib/python3.7/site-packages (from opencv-python) (1.21.5)\n",
      "Requirement already satisfied: cycler>=0.10 in /home/gabriel/anaconda3/lib/python3.7/site-packages (from matplotlib) (0.10.0)\n",
      "Requirement already satisfied: python-dateutil>=2.7 in /home/gabriel/anaconda3/lib/python3.7/site-packages (from matplotlib) (2.8.1)\n",
      "Requirement already satisfied: fonttools>=4.22.0 in /home/gabriel/anaconda3/lib/python3.7/site-packages (from matplotlib) (4.29.1)\n",
      "Requirement already satisfied: kiwisolver>=1.0.1 in /home/gabriel/anaconda3/lib/python3.7/site-packages (from matplotlib) (1.1.0)\n",
      "Requirement already satisfied: packaging>=20.0 in /home/gabriel/anaconda3/lib/python3.7/site-packages (from matplotlib) (20.1)\n",
      "Requirement already satisfied: pyparsing>=2.2.1 in /home/gabriel/anaconda3/lib/python3.7/site-packages (from matplotlib) (2.4.6)\n",
      "Requirement already satisfied: six in /home/gabriel/anaconda3/lib/python3.7/site-packages (from cycler>=0.10->matplotlib) (1.14.0)\n",
      "Requirement already satisfied: setuptools in /home/gabriel/anaconda3/lib/python3.7/site-packages (from kiwisolver>=1.0.1->matplotlib) (45.2.0.post20200210)\n",
      "Building wheels for collected packages: pycocotools\n",
      "  Building wheel for pycocotools (PEP 517) ... \u001b[?25ldone\n",
      "\u001b[?25h  Created wheel for pycocotools: filename=pycocotools-2.0.4-cp37-cp37m-linux_x86_64.whl size=370284 sha256=2aa9e147e1d0ba23f75d84a43a16e48912e6548d3b91d66658b281bc98386b68\n",
      "  Stored in directory: /home/gabriel/.cache/pip/wheels/a3/5f/fa/f011e578cc76e1fc5be8dce30b3eb9fd00f337e744b3bba59b\n",
      "Successfully built pycocotools\n",
      "Installing collected packages: pycocotools\n",
      "Successfully installed pycocotools-2.0.4\n",
      "Note: you may need to restart the kernel to use updated packages.\n"
     ]
    }
   ],
   "source": [
    "%pip install cython\n",
    "%pip install opencv-python pillow pycocotools matplotlib"
   ]
  },
  {
   "cell_type": "code",
   "execution_count": 2,
   "metadata": {},
   "outputs": [
    {
     "name": "stdout",
     "output_type": "stream",
     "text": [
      "Collecting labelme2coco\n",
      "  Using cached labelme2coco-0.2.1-py3-none-any.whl (18 kB)\n",
      "Collecting sahi>=0.8.19\n",
      "  Using cached sahi-0.9.2-py3-none-any.whl (79 kB)\n",
      "Requirement already satisfied, skipping upgrade: jsonschema>=2.6.0 in /home/gabriel/anaconda3/lib/python3.7/site-packages (from labelme2coco) (3.2.0)\n",
      "Collecting terminaltables\n",
      "  Using cached terminaltables-3.1.10-py2.py3-none-any.whl (15 kB)\n",
      "Collecting shapely>=1.8.0\n",
      "  Downloading Shapely-1.8.1.post1-cp37-cp37m-manylinux_2_12_x86_64.manylinux2010_x86_64.whl (2.0 MB)\n",
      "\u001b[K     |████████████████████████████████| 2.0 MB 1.2 MB/s eta 0:00:01\n",
      "\u001b[?25hCollecting tqdm>=4.48.2\n",
      "  Using cached tqdm-4.64.0-py2.py3-none-any.whl (78 kB)\n",
      "Requirement already satisfied, skipping upgrade: opencv-python>=4.2.0.32 in /home/gabriel/anaconda3/lib/python3.7/site-packages (from sahi>=0.8.19->labelme2coco) (4.5.5.64)\n",
      "Requirement already satisfied, skipping upgrade: requests in /home/gabriel/anaconda3/lib/python3.7/site-packages (from sahi>=0.8.19->labelme2coco) (2.22.0)\n",
      "Requirement already satisfied, skipping upgrade: pyyaml in /home/gabriel/anaconda3/lib/python3.7/site-packages (from sahi>=0.8.19->labelme2coco) (5.3)\n",
      "Collecting pillow>=8.2.0\n",
      "  Downloading Pillow-9.1.0-cp37-cp37m-manylinux_2_17_x86_64.manylinux2014_x86_64.whl (4.3 MB)\n",
      "\u001b[K     |████████████████████████████████| 4.3 MB 42 kB/s  eta 0:00:01\n",
      "\u001b[?25hCollecting fire\n",
      "  Using cached fire-0.4.0.tar.gz (87 kB)\n",
      "Collecting click==8.0.4\n",
      "  Using cached click-8.0.4-py3-none-any.whl (97 kB)\n",
      "Requirement already satisfied, skipping upgrade: pyrsistent>=0.14.0 in /home/gabriel/anaconda3/lib/python3.7/site-packages (from jsonschema>=2.6.0->labelme2coco) (0.15.7)\n",
      "Requirement already satisfied, skipping upgrade: importlib-metadata; python_version < \"3.8\" in /home/gabriel/anaconda3/lib/python3.7/site-packages (from jsonschema>=2.6.0->labelme2coco) (4.11.3)\n",
      "Requirement already satisfied, skipping upgrade: attrs>=17.4.0 in /home/gabriel/anaconda3/lib/python3.7/site-packages (from jsonschema>=2.6.0->labelme2coco) (19.3.0)\n",
      "Requirement already satisfied, skipping upgrade: setuptools in /home/gabriel/anaconda3/lib/python3.7/site-packages (from jsonschema>=2.6.0->labelme2coco) (45.2.0.post20200210)\n",
      "Requirement already satisfied, skipping upgrade: six>=1.11.0 in /home/gabriel/anaconda3/lib/python3.7/site-packages (from jsonschema>=2.6.0->labelme2coco) (1.14.0)\n",
      "Requirement already satisfied, skipping upgrade: numpy>=1.14.5; python_version >= \"3.7\" in /home/gabriel/anaconda3/lib/python3.7/site-packages (from opencv-python>=4.2.0.32->sahi>=0.8.19->labelme2coco) (1.21.5)\n",
      "Requirement already satisfied, skipping upgrade: urllib3!=1.25.0,!=1.25.1,<1.26,>=1.21.1 in /home/gabriel/anaconda3/lib/python3.7/site-packages (from requests->sahi>=0.8.19->labelme2coco) (1.25.8)\n",
      "Requirement already satisfied, skipping upgrade: idna<2.9,>=2.5 in /home/gabriel/anaconda3/lib/python3.7/site-packages (from requests->sahi>=0.8.19->labelme2coco) (2.8)\n",
      "Requirement already satisfied, skipping upgrade: chardet<3.1.0,>=3.0.2 in /home/gabriel/anaconda3/lib/python3.7/site-packages (from requests->sahi>=0.8.19->labelme2coco) (3.0.4)\n",
      "Requirement already satisfied, skipping upgrade: certifi>=2017.4.17 in /home/gabriel/anaconda3/lib/python3.7/site-packages (from requests->sahi>=0.8.19->labelme2coco) (2019.11.28)\n",
      "Requirement already satisfied, skipping upgrade: termcolor in /home/gabriel/anaconda3/lib/python3.7/site-packages (from fire->sahi>=0.8.19->labelme2coco) (1.1.0)\n",
      "Requirement already satisfied, skipping upgrade: zipp>=0.5 in /home/gabriel/anaconda3/lib/python3.7/site-packages (from importlib-metadata; python_version < \"3.8\"->jsonschema>=2.6.0->labelme2coco) (2.2.0)\n",
      "Requirement already satisfied, skipping upgrade: typing-extensions>=3.6.4; python_version < \"3.8\" in /home/gabriel/anaconda3/lib/python3.7/site-packages (from importlib-metadata; python_version < \"3.8\"->jsonschema>=2.6.0->labelme2coco) (4.1.1)\n",
      "Building wheels for collected packages: fire\n",
      "  Building wheel for fire (setup.py) ... \u001b[?25ldone\n",
      "\u001b[?25h  Created wheel for fire: filename=fire-0.4.0-py2.py3-none-any.whl size=115925 sha256=59a6c8bdd4b2744452e0085da064f9c6e658f9be32828d67cb0932a20bcf7601\n",
      "  Stored in directory: /home/gabriel/.cache/pip/wheels/8a/67/fb/2e8a12fa16661b9d5af1f654bd199366799740a85c64981226\n",
      "Successfully built fire\n",
      "Installing collected packages: terminaltables, shapely, tqdm, pillow, fire, click, sahi, labelme2coco\n",
      "  Attempting uninstall: tqdm\n",
      "    Found existing installation: tqdm 4.42.1\n",
      "    Uninstalling tqdm-4.42.1:\n",
      "      Successfully uninstalled tqdm-4.42.1\n",
      "  Attempting uninstall: pillow\n",
      "    Found existing installation: Pillow 7.0.0\n",
      "    Uninstalling Pillow-7.0.0:\n",
      "      Successfully uninstalled Pillow-7.0.0\n",
      "  Attempting uninstall: click\n",
      "    Found existing installation: Click 7.0\n",
      "    Uninstalling Click-7.0:\n",
      "      Successfully uninstalled Click-7.0\n",
      "Successfully installed click-8.0.4 fire-0.4.0 labelme2coco-0.2.1 pillow-9.1.0 sahi-0.9.2 shapely-1.8.1.post1 terminaltables-3.1.10 tqdm-4.64.0\n",
      "Note: you may need to restart the kernel to use updated packages.\n"
     ]
    }
   ],
   "source": [
    "%pip install -U labelme2coco --upgrade"
   ]
  },
  {
   "cell_type": "code",
   "execution_count": 3,
   "metadata": {},
   "outputs": [
    {
     "name": "stdout",
     "output_type": "stream",
     "text": [
      "There are 1450 listed files in folder train.\n"
     ]
    },
    {
     "name": "stderr",
     "output_type": "stream",
     "text": [
      "Converting labelme annotations to COCO format: 100%|██████████| 1450/1450 [01:13<00:00, 19.77it/s]\n",
      "04/24/2022 15:23:41 - INFO - labelme2coco -   Converted annotations in COCO format is exported to train_annotation/dataset.json\n"
     ]
    },
    {
     "name": "stdout",
     "output_type": "stream",
     "text": [
      "There are 743 listed files in folder test.\n"
     ]
    },
    {
     "name": "stderr",
     "output_type": "stream",
     "text": [
      "Converting labelme annotations to COCO format: 100%|██████████| 743/743 [00:07<00:00, 94.48it/s] \n",
      "04/24/2022 15:23:50 - INFO - labelme2coco -   Converted annotations in COCO format is exported to test_annotation/dataset.json\n"
     ]
    }
   ],
   "source": [
    "import labelme2coco\n",
    "\n",
    "split_rate = 1\n",
    "\n",
    "train_folder = 'archive/train'\n",
    "train_annotation = 'train_annotation'\n",
    "\n",
    "test_folder = 'archive/test'\n",
    "test_annotation = 'test_annotation'\n",
    "\n",
    "labelme2coco.convert(train_folder, train_annotation, split_rate)\n",
    "labelme2coco.convert(test_folder, test_annotation, split_rate)"
   ]
  },
  {
   "cell_type": "code",
   "execution_count": 4,
   "metadata": {},
   "outputs": [
    {
     "name": "stderr",
     "output_type": "stream",
     "text": [
      "UsageError: Line magic function `%python3` not found (But cell magic `%%python3` exists, did you mean that instead?).\n"
     ]
    }
   ],
   "source": [
    "%python3 -m pip install torch==1.4.0\n",
    "%python3 -m pip install torchvision==0.5.0\n",
    "%conda install pytorch torchvision cudatoolkit=9.0 -c pytorch"
   ]
  },
  {
   "cell_type": "code",
   "execution_count": 5,
   "metadata": {},
   "outputs": [
    {
     "name": "stderr",
     "output_type": "stream",
     "text": [
      "UsageError: Line magic function `%git` not found.\n"
     ]
    }
   ],
   "source": [
    "%git clone https://github.com/dbolya/yolact.git"
   ]
  },
  {
   "cell_type": "code",
   "execution_count": 6,
   "metadata": {},
   "outputs": [
    {
     "name": "stdout",
     "output_type": "stream",
     "text": [
      "[Errno 2] No such file or directory: './yolact/external/DCNv2/yolact/external/DCNv2'\n",
      "/home/gabriel/Documentos/proj3-fsi\n",
      "python3: can't open file 'setup.py': [Errno 2] No such file or directory\n"
     ]
    }
   ],
   "source": [
    "%cd ./yolact/external/DCNv2/yolact/external/DCNv2\n",
    "\n",
    "\n",
    "!python3 setup.py build develop --user || exit 1"
   ]
  },
  {
   "cell_type": "code",
   "execution_count": 10,
   "metadata": {},
   "outputs": [
    {
     "name": "stdout",
     "output_type": "stream",
     "text": [
      "fatal: destination path 'download_google_drive' already exists and is not an empty directory.\n"
     ]
    }
   ],
   "source": [
    "!git clone https://github.com/chentinghao/download_google_drive.git\n",
    "\n",
    "%mkdir -p ./yolact/weights"
   ]
  },
  {
   "cell_type": "code",
   "execution_count": 12,
   "metadata": {},
   "outputs": [
    {
     "name": "stdout",
     "output_type": "stream",
     "text": [
      "32.0kB [00:00, 28.8MB/s]\n"
     ]
    }
   ],
   "source": [
    "!python ./download_google_drive/download_gdrive.py 1ZPu1YR2UzGHQD0o1rEqy-j5bmEm3lbyP ./yolact/weights/yolact_plus_resnet50_54_800000.pth"
   ]
  },
  {
   "cell_type": "code",
   "execution_count": 19,
   "metadata": {},
   "outputs": [
    {
     "name": "stdout",
     "output_type": "stream",
     "text": [
      "Looking in links: https://download.pytorch.org/whl/cu113/torch_stable.html\n",
      "Collecting torch==1.10.1+cu113\n",
      "  Downloading https://download.pytorch.org/whl/cu113/torch-1.10.1%2Bcu113-cp39-cp39-linux_x86_64.whl (1821.5 MB)\n",
      "\u001b[K     |███▋                            | 204.5 MB 39 kB/s eta 11:23:47\u001b[31mERROR: Exception:\n",
      "Traceback (most recent call last):\n",
      "  File \"/usr/share/python-wheels/urllib3-1.25.8-py2.py3-none-any.whl/urllib3/response.py\", line 425, in _error_catcher\n",
      "    yield\n",
      "  File \"/usr/share/python-wheels/urllib3-1.25.8-py2.py3-none-any.whl/urllib3/response.py\", line 507, in read\n",
      "    data = self._fp.read(amt) if not fp_closed else b\"\"\n",
      "  File \"/usr/share/python-wheels/CacheControl-0.12.6-py2.py3-none-any.whl/cachecontrol/filewrapper.py\", line 62, in read\n",
      "    data = self.__fp.read(amt)\n",
      "  File \"/usr/lib/python3.9/http/client.py\", line 463, in read\n",
      "    n = self.readinto(b)\n",
      "  File \"/usr/lib/python3.9/http/client.py\", line 507, in readinto\n",
      "    n = self.fp.readinto(b)\n",
      "  File \"/usr/lib/python3.9/socket.py\", line 704, in readinto\n",
      "    return self._sock.recv_into(b)\n",
      "  File \"/usr/lib/python3.9/ssl.py\", line 1241, in recv_into\n",
      "    return self.read(nbytes, buffer)\n",
      "  File \"/usr/lib/python3.9/ssl.py\", line 1099, in read\n",
      "    return self._sslobj.read(len, buffer)\n",
      "socket.timeout: The read operation timed out\n",
      "\n",
      "During handling of the above exception, another exception occurred:\n",
      "\n",
      "Traceback (most recent call last):\n",
      "  File \"/usr/lib/python3/dist-packages/pip/_internal/cli/base_command.py\", line 186, in _main\n",
      "    status = self.run(options, args)\n",
      "  File \"/usr/lib/python3/dist-packages/pip/_internal/commands/install.py\", line 357, in run\n",
      "    resolver.resolve(requirement_set)\n",
      "  File \"/usr/lib/python3/dist-packages/pip/_internal/legacy_resolve.py\", line 177, in resolve\n",
      "    discovered_reqs.extend(self._resolve_one(requirement_set, req))\n",
      "  File \"/usr/lib/python3/dist-packages/pip/_internal/legacy_resolve.py\", line 333, in _resolve_one\n",
      "    abstract_dist = self._get_abstract_dist_for(req_to_install)\n",
      "  File \"/usr/lib/python3/dist-packages/pip/_internal/legacy_resolve.py\", line 282, in _get_abstract_dist_for\n",
      "    abstract_dist = self.preparer.prepare_linked_requirement(req)\n",
      "  File \"/usr/lib/python3/dist-packages/pip/_internal/operations/prepare.py\", line 480, in prepare_linked_requirement\n",
      "    local_path = unpack_url(\n",
      "  File \"/usr/lib/python3/dist-packages/pip/_internal/operations/prepare.py\", line 282, in unpack_url\n",
      "    return unpack_http_url(\n",
      "  File \"/usr/lib/python3/dist-packages/pip/_internal/operations/prepare.py\", line 158, in unpack_http_url\n",
      "    from_path, content_type = _download_http_url(\n",
      "  File \"/usr/lib/python3/dist-packages/pip/_internal/operations/prepare.py\", line 303, in _download_http_url\n",
      "    for chunk in download.chunks:\n",
      "  File \"/usr/lib/python3/dist-packages/pip/_internal/utils/ui.py\", line 160, in iter\n",
      "    for x in it:\n",
      "  File \"/usr/lib/python3/dist-packages/pip/_internal/network/utils.py\", line 15, in response_chunks\n",
      "    for chunk in response.raw.stream(\n",
      "  File \"/usr/share/python-wheels/urllib3-1.25.8-py2.py3-none-any.whl/urllib3/response.py\", line 564, in stream\n",
      "    data = self.read(amt=amt, decode_content=decode_content)\n",
      "  File \"/usr/share/python-wheels/urllib3-1.25.8-py2.py3-none-any.whl/urllib3/response.py\", line 529, in read\n",
      "    raise IncompleteRead(self._fp_bytes_read, self.length_remaining)\n",
      "  File \"/usr/lib/python3.9/contextlib.py\", line 137, in __exit__\n",
      "    self.gen.throw(typ, value, traceback)\n",
      "  File \"/usr/share/python-wheels/urllib3-1.25.8-py2.py3-none-any.whl/urllib3/response.py\", line 430, in _error_catcher\n",
      "    raise ReadTimeoutError(self._pool, None, \"Read timed out.\")\n",
      "urllib3.exceptions.ReadTimeoutError: HTTPSConnectionPool(host='download.pytorch.org', port=443): Read timed out.\u001b[0m\n"
     ]
    }
   ],
   "source": [
    "import torch\n",
    "torch.cuda.is_available()\n",
    "!pip3 install torch==1.10.1+cu113 torchvision==0.11.2+cu113 torchaudio===0.10.1+cu113 -f https://download.pytorch.org/whl/cu113/torch_stable.html"
   ]
  },
  {
   "cell_type": "code",
   "execution_count": 15,
   "metadata": {},
   "outputs": [
    {
     "name": "stdout",
     "output_type": "stream",
     "text": [
      "Traceback (most recent call last):\n",
      "  File \"./yolact/eval.py\", line 2, in <module>\n",
      "    from yolact import Yolact\n",
      "  File \"/home/gabriel/Documentos/proj3-fsi/yolact/yolact.py\", line 22, in <module>\n",
      "    torch.cuda.current_device()\n",
      "  File \"/home/gabriel/anaconda3/lib/python3.7/site-packages/torch/cuda/__init__.py\", line 481, in current_device\n",
      "    _lazy_init()\n",
      "  File \"/home/gabriel/anaconda3/lib/python3.7/site-packages/torch/cuda/__init__.py\", line 210, in _lazy_init\n",
      "    raise AssertionError(\"Torch not compiled with CUDA enabled\")\n",
      "AssertionError: Torch not compiled with CUDA enabled\n"
     ]
    }
   ],
   "source": [
    "%mkdir -p ./output\n",
    "\n",
    "!python ./yolact/eval.py --trained_model=./yolact/weights/yolact_plus_resnet50_54_800000.pth config=yolact_plus_resnet50_config --score_threshold=0.15 --top_k=15 --images=test_images:output_images"
   ]
  }
 ],
 "metadata": {
  "interpreter": {
   "hash": "916dbcbb3f70747c44a77c7bcd40155683ae19c65e1c03b4aa3499c5328201f1"
  },
  "kernelspec": {
   "display_name": "Python 3.8.10 64-bit",
   "language": "python",
   "name": "python3"
  },
  "language_info": {
   "codemirror_mode": {
    "name": "ipython",
    "version": 3
   },
   "file_extension": ".py",
   "mimetype": "text/x-python",
   "name": "python",
   "nbconvert_exporter": "python",
   "pygments_lexer": "ipython3",
   "version": "3.8.10"
  },
  "orig_nbformat": 4
 },
 "nbformat": 4,
 "nbformat_minor": 2
}
